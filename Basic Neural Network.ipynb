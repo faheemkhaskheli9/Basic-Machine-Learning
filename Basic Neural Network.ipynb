{
  "nbformat": 4,
  "nbformat_minor": 0,
  "metadata": {
    "colab": {
      "name": "Basic.ipynb",
      "provenance": [],
      "collapsed_sections": [],
      "include_colab_link": true
    },
    "kernelspec": {
      "name": "python3",
      "display_name": "Python 3"
    }
  },
  "cells": [
    {
      "cell_type": "markdown",
      "metadata": {
        "id": "view-in-github",
        "colab_type": "text"
      },
      "source": [
        "<a href=\"https://colab.research.google.com/github/faheemkhaskheli9/Basic-Machine-Learning/blob/master/Basic%20Neural%20Network.ipynb\" target=\"_parent\"><img src=\"https://colab.research.google.com/assets/colab-badge.svg\" alt=\"Open In Colab\"/></a>"
      ]
    },
    {
      "cell_type": "code",
      "metadata": {
        "id": "DvLcGvgTuldc",
        "colab_type": "code",
        "colab": {}
      },
      "source": [
        "from keras.models import Sequential\n",
        "from keras.layers import Dense\n",
        "from keras.optimizers import Adam\n",
        "from keras.utils import to_categorical"
      ],
      "execution_count": 0,
      "outputs": []
    },
    {
      "cell_type": "code",
      "metadata": {
        "id": "cMGaVAbvusEy",
        "colab_type": "code",
        "colab": {}
      },
      "source": [
        "import numpy as np"
      ],
      "execution_count": 0,
      "outputs": []
    },
    {
      "cell_type": "code",
      "metadata": {
        "id": "voU3jyQouwKB",
        "colab_type": "code",
        "colab": {}
      },
      "source": [
        "m = Sequential()\n",
        "m.add(Dense(10,activation='relu')) # Hidden Layer\n",
        "m.add(Dense(1,activation='relu')) # output Layer"
      ],
      "execution_count": 0,
      "outputs": []
    },
    {
      "cell_type": "code",
      "metadata": {
        "id": "r159VxmCuwbL",
        "colab_type": "code",
        "colab": {}
      },
      "source": [
        "m.compile(optimizer = Adam(0.1),loss='mse',metrics=['acc'])"
      ],
      "execution_count": 0,
      "outputs": []
    },
    {
      "cell_type": "code",
      "metadata": {
        "id": "PqO_dVgjvP02",
        "colab_type": "code",
        "colab": {}
      },
      "source": [
        "nums = np.array([[1],[3],[5],[30],[90],[110],[1000],[5000]])\n",
        "y = nums.copy()*10"
      ],
      "execution_count": 0,
      "outputs": []
    },
    {
      "cell_type": "code",
      "metadata": {
        "id": "Ynz-ep_Lvdba",
        "colab_type": "code",
        "colab": {}
      },
      "source": [
        "h = m.fit(nums,y,epochs=1000,validation_split=0.3,verbose=0,shuffle=True)"
      ],
      "execution_count": 0,
      "outputs": []
    },
    {
      "cell_type": "code",
      "metadata": {
        "id": "ocHHk-0SxDDn",
        "colab_type": "code",
        "colab": {
          "base_uri": "https://localhost:8080/",
          "height": 269
        },
        "outputId": "fb91deb8-b576-458b-d3db-776177c70dff"
      },
      "source": [
        "import matplotlib.pyplot as plt\n",
        "l = h.history['loss']\n",
        "plt.plot(range(len(l)),l)\n",
        "plt.show()"
      ],
      "execution_count": 113,
      "outputs": [
        {
          "output_type": "display_data",
          "data": {
            "image/png": "[encoded data removed]",
            "text/plain": [
              "<Figure size 432x288 with 1 Axes>"
            ]
          },
          "metadata": {
            "tags": []
          }
        }
      ]
    },
    {
      "cell_type": "code",
      "metadata": {
        "id": "cKnLtJdwvh3p",
        "colab_type": "code",
        "colab": {
          "base_uri": "https://localhost:8080/",
          "height": 1000
        },
        "outputId": "18d9e322-23be-47f9-a4eb-9da82c950c6b"
      },
      "source": [
        "for i in range(10,100):\n",
        "  r = m.predict( [i] )\n",
        "  print(i,' ==> ',np.round(r[0]))"
      ],
      "execution_count": 114,
      "outputs": [
        {
          "output_type": "stream",
          "text": [
            "10  ==>  [100.]\n",
            "11  ==>  [110.]\n",
            "12  ==>  [120.]\n",
            "13  ==>  [130.]\n",
            "14  ==>  [140.]\n",
            "15  ==>  [150.]\n",
            "16  ==>  [160.]\n",
            "17  ==>  [170.]\n",
            "18  ==>  [180.]\n",
            "19  ==>  [190.]\n",
            "20  ==>  [200.]\n",
            "21  ==>  [210.]\n",
            "22  ==>  [220.]\n",
            "23  ==>  [230.]\n",
            "24  ==>  [240.]\n",
            "25  ==>  [250.]\n",
            "26  ==>  [260.]\n",
            "27  ==>  [270.]\n",
            "28  ==>  [280.]\n",
            "29  ==>  [290.]\n",
            "30  ==>  [300.]\n",
            "31  ==>  [310.]\n",
            "32  ==>  [320.]\n",
            "33  ==>  [330.]\n",
            "34  ==>  [340.]\n",
            "35  ==>  [350.]\n",
            "36  ==>  [360.]\n",
            "37  ==>  [370.]\n",
            "38  ==>  [380.]\n",
            "39  ==>  [390.]\n",
            "40  ==>  [400.]\n",
            "41  ==>  [410.]\n",
            "42  ==>  [420.]\n",
            "43  ==>  [430.]\n",
            "44  ==>  [440.]\n",
            "45  ==>  [450.]\n",
            "46  ==>  [460.]\n",
            "47  ==>  [470.]\n",
            "48  ==>  [480.]\n",
            "49  ==>  [490.]\n",
            "50  ==>  [500.]\n",
            "51  ==>  [510.]\n",
            "52  ==>  [520.]\n",
            "53  ==>  [530.]\n",
            "54  ==>  [540.]\n",
            "55  ==>  [550.]\n",
            "56  ==>  [560.]\n",
            "57  ==>  [570.]\n",
            "58  ==>  [580.]\n",
            "59  ==>  [590.]\n",
            "60  ==>  [600.]\n",
            "61  ==>  [610.]\n",
            "62  ==>  [620.]\n",
            "63  ==>  [630.]\n",
            "64  ==>  [640.]\n",
            "65  ==>  [650.]\n",
            "66  ==>  [660.]\n",
            "67  ==>  [670.]\n",
            "68  ==>  [680.]\n",
            "69  ==>  [690.]\n",
            "70  ==>  [700.]\n",
            "71  ==>  [710.]\n",
            "72  ==>  [720.]\n",
            "73  ==>  [730.]\n",
            "74  ==>  [740.]\n",
            "75  ==>  [750.]\n",
            "76  ==>  [760.]\n",
            "77  ==>  [770.]\n",
            "78  ==>  [780.]\n",
            "79  ==>  [790.]\n",
            "80  ==>  [800.]\n",
            "81  ==>  [810.]\n",
            "82  ==>  [820.]\n",
            "83  ==>  [830.]\n",
            "84  ==>  [840.]\n",
            "85  ==>  [850.]\n",
            "86  ==>  [860.]\n",
            "87  ==>  [870.]\n",
            "88  ==>  [880.]\n",
            "89  ==>  [890.]\n",
            "90  ==>  [900.]\n",
            "91  ==>  [910.]\n",
            "92  ==>  [920.]\n",
            "93  ==>  [930.]\n",
            "94  ==>  [940.]\n",
            "95  ==>  [950.]\n",
            "96  ==>  [960.]\n",
            "97  ==>  [970.]\n",
            "98  ==>  [980.]\n",
            "99  ==>  [990.]\n"
          ],
          "name": "stdout"
        }
      ]
    },
    {
      "cell_type": "code",
      "metadata": {
        "id": "Vx52m7DxwPuk",
        "colab_type": "code",
        "colab": {}
      },
      "source": [
        ""
      ],
      "execution_count": 0,
      "outputs": []
    }
  ]
}